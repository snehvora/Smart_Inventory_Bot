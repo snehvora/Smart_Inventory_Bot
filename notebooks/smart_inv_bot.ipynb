{
 "cells": [
  {
   "cell_type": "code",
   "execution_count": 21,
   "metadata": {},
   "outputs": [],
   "source": [
    "from typing import Annotated\n",
    "import sqlite3\n",
    "\n",
    "from typing_extensions import TypedDict\n",
    "\n",
    "from langgraph.graph import StateGraph, START, END\n",
    "from langgraph.graph.message import add_messages\n",
    "\n",
    "from pydantic import BaseModel, Field\n",
    "from typing import Literal\n",
    "\n",
    "from smart_inventory_bot.app_properties.constant import DATABASE_SCHEMA\n",
    "from smart_inventory_bot.components.sqlite_utils import sqlite_exc\n",
    "from smart_inventory_bot.components.cohere_utils import cohere_text_generation\n",
    "import cohere\n",
    "from dotenv import load_dotenv\n",
    "import os\n",
    "load_dotenv()\n",
    "\n",
    "cohere_api_key = os.getenv('COHERE_API_KEY')"
   ]
  },
  {
   "cell_type": "code",
   "execution_count": 22,
   "metadata": {},
   "outputs": [],
   "source": [
    "import instructor\n",
    "from pydantic import BaseModel\n",
    "from cohere import Client\n",
    "\n",
    "client = instructor.from_cohere(Client())"
   ]
  },
  {
   "cell_type": "code",
   "execution_count": 23,
   "metadata": {},
   "outputs": [],
   "source": [
    "class State(TypedDict):\n",
    "    messages: Annotated[list, add_messages]\n",
    "    sql_query : str\n",
    "    data : list[tuple]\n",
    "    prompt : str\n",
    "\n",
    "graph_builder = StateGraph(State)"
   ]
  },
  {
   "attachments": {},
   "cell_type": "markdown",
   "metadata": {},
   "source": [
    "NODES"
   ]
  },
  {
   "cell_type": "code",
   "execution_count": 24,
   "metadata": {},
   "outputs": [],
   "source": [
    "class prompt_generator(BaseModel):\n",
    "    \"\"\"This function answer for natural language questions like a inventory manager\"\"\"\n",
    "    final_ans : str = Field(..., description=f\"\"\"\n",
    "        You are an AI trained model that answers natural language questions like a inventory manager.\n",
    "    \"\"\")"
   ]
  },
  {
   "cell_type": "code",
   "execution_count": 25,
   "metadata": {},
   "outputs": [],
   "source": [
    "def llm_ai(state: State):\n",
    "    resp = client.chat.completions.create(\n",
    "        response_model=prompt_generator,\n",
    "        messages=[\n",
    "            {\n",
    "                \"role\": \"user\",\n",
    "                \"content\": state[\"messages\"][0].content,\n",
    "            }\n",
    "        ],\n",
    "    )\n",
    "\n",
    "    print(resp.final_ans)\n",
    "    return {\"messages\": resp.final_ans}"
   ]
  },
  {
   "cell_type": "code",
   "execution_count": 26,
   "metadata": {},
   "outputs": [],
   "source": [
    "# What are the most common order sizes (quantity) and their associated total sales?"
   ]
  },
  {
   "cell_type": "code",
   "execution_count": 27,
   "metadata": {},
   "outputs": [],
   "source": [
    "class sql_query_generator(BaseModel):\n",
    "    \"\"\"This function generates fully formed SQL query for the given user question and database schema\"\"\"\n",
    "    sql_query: str = Field(..., description=f\"\"\"\n",
    "        You are an AI trained to convert natural language questions into Sqlite queries based on a given database schema. Below is the schema description of the database you will be querying:\n",
    "        {DATABASE_SCHEMA}\n",
    "        The query should be returned in plain text, not in JSON. The query should be without using placeholders like <value>. The goal is to list out all the results directly without specifying any placeholder.\n",
    "    \"\"\")"
   ]
  },
  {
   "cell_type": "code",
   "execution_count": 28,
   "metadata": {},
   "outputs": [],
   "source": [
    "def sql_query_gen(state: State):\n",
    "    resp = client.chat.completions.create(\n",
    "        response_model=sql_query_generator,\n",
    "        messages=[\n",
    "            {\n",
    "                \"role\": \"user\",\n",
    "                \"content\": state[\"messages\"][0].content,\n",
    "            }\n",
    "        ],\n",
    "    )\n",
    "\n",
    "    print(resp.sql_query)\n",
    "    return {\"sql_query\": resp.sql_query}\n"
   ]
  },
  {
   "cell_type": "code",
   "execution_count": 29,
   "metadata": {},
   "outputs": [],
   "source": [
    "class semantic_routing(BaseModel):\n",
    "    \"\"\"This function determines the appropriate path to use based on the user question\"\"\"\n",
    "    path: Literal['llm_ai', 'sql_query_gen'] = Field(..., description=f\"\"\"\n",
    "        You are an AI trained to determine the appropriate path to use based on a given user question. \n",
    "        If you think that the user question is related to Database schema and the tables and columns mentioned in the schema are enough to answer, then return 'sql_query_gen' otherwise return 'llm_ai' \n",
    "        Below is the schema description of the databases:\n",
    "        {DATABASE_SCHEMA}\n",
    "    \"\"\")"
   ]
  },
  {
   "cell_type": "code",
   "execution_count": 30,
   "metadata": {},
   "outputs": [],
   "source": [
    "def where_to_go(state: State):\n",
    "    resp = client.chat.completions.create(\n",
    "        response_model=semantic_routing,\n",
    "        messages=[\n",
    "            {\n",
    "                \"role\": \"user\",\n",
    "                \"content\": state[\"messages\"][0].content,\n",
    "            }\n",
    "        ],\n",
    "    )\n",
    "\n",
    "    print(resp)\n",
    "    return resp.path"
   ]
  },
  {
   "cell_type": "code",
   "execution_count": 31,
   "metadata": {},
   "outputs": [],
   "source": [
    "def sql_agent(state: State):\n",
    "    data = sqlite_exc(state[\"sql_query\"])\n",
    "    print(data)\n",
    "    return {'data' : data}"
   ]
  },
  {
   "cell_type": "code",
   "execution_count": 32,
   "metadata": {},
   "outputs": [],
   "source": [
    "def where_to_go_if_error(state: State):\n",
    "    if state['data'] == \"error\":\n",
    "        return 'error_in_fetching'\n",
    "    else:\n",
    "        return 'llm_final_response'"
   ]
  },
  {
   "cell_type": "code",
   "execution_count": 33,
   "metadata": {},
   "outputs": [],
   "source": [
    "def error_in_fetching(state: State):\n",
    "    return {\"messages\": \"Couldn't fetch the data. Kindly provide more descriptive query\"}\n"
   ]
  },
  {
   "cell_type": "code",
   "execution_count": 34,
   "metadata": {},
   "outputs": [],
   "source": [
    "def llm_final_response(state: State):\n",
    "    prompt = f\"\"\"\n",
    "    Based on the user question, SQL query and SQL response, generate a clear and concise natural language response that directly answers the question without referencing the database schema or SQL process.\n",
    "    {DATABASE_SCHEMA}\n",
    "    Question: {state['messages'][0].content}\n",
    "    SQL Response: {state['data']}\n",
    "    SQL query: {state['sql_query']}\n",
    "    \"\"\"\n",
    "\n",
    "    generated_text = cohere_text_generation(prompt, temperature=0.5)\n",
    "    return {\"messages\": generated_text}\n",
    "    "
   ]
  },
  {
   "cell_type": "code",
   "execution_count": 35,
   "metadata": {},
   "outputs": [],
   "source": [
    "graph_builder.add_node(\"llm_ai\", llm_ai)\n",
    "graph_builder.add_node(\"sql_query_gen\", sql_query_gen)\n",
    "graph_builder.add_node(\"sql_agent\", sql_agent)\n",
    "graph_builder.add_node(\"error_in_fetching\", error_in_fetching)\n",
    "graph_builder.add_node(\"llm_final_response\", llm_final_response)\n",
    "\n",
    "\n",
    "graph_builder.add_conditional_edges(\n",
    "    START,\n",
    "    where_to_go,\n",
    "    {\"llm_ai\": \"llm_ai\", \"sql_query_gen\": \"sql_query_gen\"},\n",
    "\n",
    ")\n",
    "graph_builder.add_edge(\"sql_query_gen\", \"sql_agent\")\n",
    "\n",
    "graph_builder.add_conditional_edges(\n",
    "    'sql_agent',\n",
    "    where_to_go_if_error,\n",
    "    {\"error_in_fetching\": \"error_in_fetching\", \"llm_final_response\": \"llm_final_response\"},\n",
    "\n",
    ")\n",
    "\n",
    "graph_builder.add_edge(\"llm_ai\", END)\n",
    "graph_builder.add_edge(\"llm_final_response\", END)\n",
    "graph_builder.add_edge(\"error_in_fetching\", END)\n",
    "\n",
    "graph = graph_builder.compile()"
   ]
  },
  {
   "cell_type": "code",
   "execution_count": 36,
   "metadata": {},
   "outputs": [
    {
     "data": {
      "image/jpeg": "[encoded data removed]",
      "text/plain": [
       "<IPython.core.display.Image object>"
      ]
     },
     "metadata": {},
     "output_type": "display_data"
    }
   ],
   "source": [
    "from IPython.display import Image, display\n",
    "\n",
    "try:\n",
    "    display(Image(graph.get_graph().draw_mermaid_png()))\n",
    "except Exception:\n",
    "    # This requires some extra dependencies and is optional\n",
    "    pass"
   ]
  },
  {
   "cell_type": "code",
   "execution_count": 37,
   "metadata": {},
   "outputs": [
    {
     "name": "stdout",
     "output_type": "stream",
     "text": [
      "path='sql_query_gen'\n",
      "SELECT Category_Name, AVG(Discount) AS Average_Discount\n",
      "FROM Category\n",
      "INNER JOIN Product ON Category.Category_ID = Product.Category_ID\n",
      "INNER JOIN Order_Detail ON Product.Product_ID = Order_Detail.Product_ID\n",
      "GROUP BY Category_Name;\n",
      "Start Establishing Connection\n",
      "Connection Established\n",
      "Query Execution started\n",
      "Query Executed\n",
      "[('Clothing', 5.0), ('Electronics', 0.0), ('Furniture', 10.0)]\n"
     ]
    }
   ],
   "source": [
    "final_state = graph.invoke(\n",
    "    {\"messages\": (\"user\", \"What is the average discount percentage given in each product category over the past year?\")}\n",
    ")"
   ]
  },
  {
   "cell_type": "code",
   "execution_count": 38,
   "metadata": {},
   "outputs": [
    {
     "data": {
      "text/plain": [
       "'The average discount percentage for each product category over the past year is as follows: Clothing items had a 5% average discount, Electronics had no discount, and Furniture saw an average discount of 10%.'"
      ]
     },
     "execution_count": 38,
     "metadata": {},
     "output_type": "execute_result"
    }
   ],
   "source": [
    "final_state['messages'][-1].content"
   ]
  },
  {
   "cell_type": "code",
   "execution_count": 39,
   "metadata": {},
   "outputs": [],
   "source": [
    "# import cohere\n",
    "# co = cohere.Client(cohere_api_key)\n",
    "# response = co.chat(\n",
    "#         model=\"command-r-plus\",\n",
    "#         message=query,\n",
    "#         temperature=0,\n",
    "#         )\n",
    "# print(response.text)"
   ]
  },
  {
   "cell_type": "code",
   "execution_count": 40,
   "metadata": {},
   "outputs": [
    {
     "name": "stdout",
     "output_type": "stream",
     "text": [
      "Start Establishing Connection\n",
      "Connection Established\n",
      "Query Execution started\n",
      "Query Executed\n",
      "[(1, 'John', 'Doe', 1, 999.9), (2, 'Jane', 'Smith', 1, 359.8), (3, 'Emily', 'Johnson', 1, 227.7)]\n"
     ]
    }
   ],
   "source": [
    "data = sqlite_exc(\"SELECT Staff.Staff_ID, Staff.First_Name, Staff.Last_Name, COUNT(`Order`.Order_ID) AS Total_Orders, SUM(Order_Detail.Total) AS Total_Revenue FROM Staff LEFT JOIN Customer ON Staff.Staff_ID = Customer.Staff_ID LEFT JOIN `Order` ON Customer.Customer_ID = `Order`.Customer_ID LEFT JOIN Order_Detail ON `Order`.Order_ID = Order_Detail.Order_ID WHERE `Order`.Date_of_Order BETWEEN '2024-08-01' AND '2024-08-31' GROUP BY Staff.Staff_ID, Staff.First_Name, Staff.Last_Name;\")\n",
    "print(data)"
   ]
  },
  {
   "cell_type": "code",
   "execution_count": null,
   "metadata": {},
   "outputs": [],
   "source": []
  }
 ],
 "metadata": {
  "kernelspec": {
   "display_name": ".venv",
   "language": "python",
   "name": "python3"
  },
  "language_info": {
   "codemirror_mode": {
    "name": "ipython",
    "version": 3
   },
   "file_extension": ".py",
   "mimetype": "text/x-python",
   "name": "python",
   "nbconvert_exporter": "python",
   "pygments_lexer": "ipython3",
   "version": "3.10.0 (v3.10.0:b494f5935c, Oct  4 2021, 14:59:19) [Clang 12.0.5 (clang-1205.0.22.11)]"
  },
  "orig_nbformat": 4,
  "vscode": {
   "interpreter": {
    "hash": "f9284c9e554bacae47b3b3d3157381052e3f810cfbfe43934d09c34dac5d027f"
   }
  }
 },
 "nbformat": 4,
 "nbformat_minor": 2
}
