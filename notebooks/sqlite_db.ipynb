{
 "cells": [
  {
   "cell_type": "code",
   "execution_count": 2,
   "metadata": {},
   "outputs": [],
   "source": [
    "import sqlite3"
   ]
  },
  {
   "cell_type": "code",
   "execution_count": 3,
   "metadata": {},
   "outputs": [],
   "source": [
    "con = sqlite3.connect('../data/sqlite.db')"
   ]
  },
  {
   "cell_type": "code",
   "execution_count": null,
   "metadata": {},
   "outputs": [],
   "source": [
    "curr = con.cursor()"
   ]
  },
  {
   "cell_type": "code",
   "execution_count": null,
   "metadata": {},
   "outputs": [
    {
     "data": {
      "text/plain": [
       "<sqlite3.Cursor at 0x1046ec8c0>"
      ]
     },
     "execution_count": 12,
     "metadata": {},
     "output_type": "execute_result"
    }
   ],
   "source": [
    "# Sample data insertion queries\n",
    "\n",
    "# Inserting data into Supplier\n",
    "curr.execute(\"INSERT INTO Supplier (Supplier_ID, Name, Address, Phone, Fax, Email, Other_Details) VALUES (1, 'Supplier A', '123 Main St', 1234567890, 1234567891, 'supplierA@example.com', 'Details A')\")\n",
    "curr.execute(\"INSERT INTO Supplier (Supplier_ID, Name, Address, Phone, Fax, Email, Other_Details) VALUES (2, 'Supplier B', '456 Elm St', 2345678901, 2345678902, 'supplierB@example.com', 'Details B')\")\n",
    "curr.execute(\"INSERT INTO Supplier (Supplier_ID, Name, Address, Phone, Fax, Email, Other_Details) VALUES (3, 'Supplier C', '789 Oak St', 3456789012, 3456789013, 'supplierC@example.com', 'Details C')\")"
   ]
  },
  {
   "cell_type": "code",
   "execution_count": null,
   "metadata": {},
   "outputs": [],
   "source": [
    "con.commit()"
   ]
  },
  {
   "cell_type": "code",
   "execution_count": null,
   "metadata": {},
   "outputs": [
    {
     "data": {
      "text/plain": [
       "<sqlite3.Cursor at 0x1046ec8c0>"
      ]
     },
     "execution_count": 14,
     "metadata": {},
     "output_type": "execute_result"
    }
   ],
   "source": [
    "# Inserting data into Role\n",
    "curr.execute(\"INSERT INTO Role (Role_ID, Role_Name, Description) VALUES (1, 'Manager', 'Oversees operations')\")\n",
    "curr.execute(\"INSERT INTO Role (Role_ID, Role_Name, Description) VALUES (2, 'Salesperson', 'Handles sales')\")\n",
    "curr.execute(\"INSERT INTO Role (Role_ID, Role_Name, Description) VALUES (3, 'Technician', 'Provides technical support')\")"
   ]
  },
  {
   "cell_type": "code",
   "execution_count": null,
   "metadata": {},
   "outputs": [],
   "source": [
    "con.commit()"
   ]
  },
  {
   "cell_type": "code",
   "execution_count": null,
   "metadata": {},
   "outputs": [
    {
     "data": {
      "text/plain": [
       "<sqlite3.Cursor at 0x1046ec8c0>"
      ]
     },
     "execution_count": 16,
     "metadata": {},
     "output_type": "execute_result"
    }
   ],
   "source": [
    "# Inserting data into Staff\n",
    "curr.execute(\"INSERT INTO Staff (Staff_ID, First_Name, Last_Name, Address, Phone, Email, UserName, Password, Role_ID) VALUES (1, 'John', 'Doe', '101 First St', 1234567890, 'john.doe@example.com', 'johndoe', 'password123', 1)\")\n",
    "curr.execute(\"INSERT INTO Staff (Staff_ID, First_Name, Last_Name, Address, Phone, Email, UserName, Password, Role_ID) VALUES (2, 'Jane', 'Smith', '202 Second St', 2345678901, 'jane.smith@example.com', 'janesmith', 'password456', 2)\")\n",
    "curr.execute(\"INSERT INTO Staff (Staff_ID, First_Name, Last_Name, Address, Phone, Email, UserName, Password, Role_ID) VALUES (3, 'Emily', 'Johnson', '303 Third St', 3456789012, 'emily.johnson@example.com', 'emilyjohnson', 'password789', 3)\")"
   ]
  },
  {
   "cell_type": "code",
   "execution_count": null,
   "metadata": {},
   "outputs": [],
   "source": [
    "con.commit()"
   ]
  },
  {
   "cell_type": "code",
   "execution_count": null,
   "metadata": {},
   "outputs": [
    {
     "data": {
      "text/plain": [
       "<sqlite3.Cursor at 0x1046ec8c0>"
      ]
     },
     "execution_count": 18,
     "metadata": {},
     "output_type": "execute_result"
    }
   ],
   "source": [
    "# Inserting data into Customer\n",
    "curr.execute(\"INSERT INTO Customer (Customer_ID, First_Name, Last_Name, Address, Phone, Email, Staff_ID) VALUES (1, 'Alice', 'Brown', '404 Fourth St', 4567890123, 'alice.brown@example.com', 1)\")\n",
    "curr.execute(\"INSERT INTO Customer (Customer_ID, First_Name, Last_Name, Address, Phone, Email, Staff_ID) VALUES (2, 'Bob', 'Davis', '505 Fifth St', 5678901234, 'bob.davis@example.com', 2)\")\n",
    "curr.execute(\"INSERT INTO Customer (Customer_ID, First_Name, Last_Name, Address, Phone, Email, Staff_ID) VALUES (3, 'Carol', 'Miller', '606 Sixth St', 6789012345, 'carol.miller@example.com', 3)\")"
   ]
  },
  {
   "cell_type": "code",
   "execution_count": null,
   "metadata": {},
   "outputs": [],
   "source": [
    "con.commit()"
   ]
  },
  {
   "cell_type": "code",
   "execution_count": null,
   "metadata": {},
   "outputs": [
    {
     "data": {
      "text/plain": [
       "<sqlite3.Cursor at 0x1046ec8c0>"
      ]
     },
     "execution_count": 20,
     "metadata": {},
     "output_type": "execute_result"
    }
   ],
   "source": [
    "# Inserting data into Order\n",
    "curr.execute(\"INSERT INTO `Order` (Order_ID, Date_of_Order, Order_Details, Customer_ID) VALUES (1, '2024-08-01', 'Order details A', 1)\")\n",
    "curr.execute(\"INSERT INTO `Order` (Order_ID, Date_of_Order, Order_Details, Customer_ID) VALUES (2, '2024-08-02', 'Order details B', 2)\")\n",
    "curr.execute(\"INSERT INTO `Order` (Order_ID, Date_of_Order, Order_Details, Customer_ID) VALUES (3, '2024-08-03', 'Order details C', 3)\")"
   ]
  },
  {
   "cell_type": "code",
   "execution_count": null,
   "metadata": {},
   "outputs": [],
   "source": [
    "con.commit()"
   ]
  },
  {
   "cell_type": "code",
   "execution_count": null,
   "metadata": {},
   "outputs": [
    {
     "data": {
      "text/plain": [
       "<sqlite3.Cursor at 0x1046ec8c0>"
      ]
     },
     "execution_count": 22,
     "metadata": {},
     "output_type": "execute_result"
    }
   ],
   "source": [
    "# Inserting data into Payment\n",
    "curr.execute(\"INSERT INTO Payment (Bill_number, Payment_Type, Other_Details) VALUES (1, 'Credit Card', 'Payment for Order 1')\")\n",
    "curr.execute(\"INSERT INTO Payment (Bill_number, Payment_Type, Other_Details) VALUES (2, 'Cash', 'Payment for Order 2')\")\n",
    "curr.execute(\"INSERT INTO Payment (Bill_number, Payment_Type, Other_Details) VALUES (3, 'Debit Card', 'Payment for Order 3')\")"
   ]
  },
  {
   "cell_type": "code",
   "execution_count": null,
   "metadata": {},
   "outputs": [],
   "source": [
    "con.commit()"
   ]
  },
  {
   "cell_type": "code",
   "execution_count": null,
   "metadata": {},
   "outputs": [
    {
     "data": {
      "text/plain": [
       "<sqlite3.Cursor at 0x1046ec8c0>"
      ]
     },
     "execution_count": 24,
     "metadata": {},
     "output_type": "execute_result"
    }
   ],
   "source": [
    "# Inserting data into Category\n",
    "curr.execute(\"INSERT INTO Category (Category_ID, Category_Name, Description) VALUES (1, 'Electronics', 'Electronic gadgets')\")\n",
    "curr.execute(\"INSERT INTO Category (Category_ID, Category_Name, Description) VALUES (2, 'Furniture', 'Household furniture')\")\n",
    "curr.execute(\"INSERT INTO Category (Category_ID, Category_Name, Description) VALUES (3, 'Clothing', 'Apparel and clothing')\")"
   ]
  },
  {
   "cell_type": "code",
   "execution_count": null,
   "metadata": {},
   "outputs": [],
   "source": [
    "con.commit()"
   ]
  },
  {
   "cell_type": "code",
   "execution_count": null,
   "metadata": {},
   "outputs": [
    {
     "data": {
      "text/plain": [
       "<sqlite3.Cursor at 0x1046ec8c0>"
      ]
     },
     "execution_count": 26,
     "metadata": {},
     "output_type": "execute_result"
    }
   ],
   "source": [
    "# Inserting data into Product\n",
    "curr.execute(\"INSERT INTO Product (Product_ID, Product_Name, Product_description, Product_unit, Product_Price, Product_quantity, Product_Status, Other_Details, Supplier_ID, Category_ID) VALUES ('P001', 'Laptop', 'High-performance laptop', 'Unit', 999.9, 10, 1, 'New Arrival', 1, 1)\")\n",
    "curr.execute(\"INSERT INTO Product (Product_ID, Product_Name, Product_description, Product_unit, Product_Price, Product_quantity, Product_Status, Other_Details, Supplier_ID, Category_ID) VALUES ('P002', 'Chair', 'Comfortable office chair', 'Unit', 199.9, 20, 1, 'Office Furniture', 2, 2)\")\n",
    "curr.execute(\"INSERT INTO Product (Product_ID, Product_Name, Product_description, Product_unit, Product_Price, Product_quantity, Product_Status, Other_Details, Supplier_ID, Category_ID) VALUES ('P003', 'Jacket', 'Winter jacket', 'Unit', 79.9, 15, 1, 'Winter Collection', 3, 3)\")"
   ]
  },
  {
   "cell_type": "code",
   "execution_count": null,
   "metadata": {},
   "outputs": [],
   "source": [
    "con.commit()"
   ]
  },
  {
   "cell_type": "code",
   "execution_count": null,
   "metadata": {},
   "outputs": [
    {
     "data": {
      "text/plain": [
       "<sqlite3.Cursor at 0x1046ec8c0>"
      ]
     },
     "execution_count": 28,
     "metadata": {},
     "output_type": "execute_result"
    }
   ],
   "source": [
    "# Inserting data into Order_Detail\n",
    "curr.execute(\"INSERT INTO Order_Detail (Order_Detail_ID, Unit_Price, Size, Quantity, Discount, Total, Date, Product_ID, Order_ID, Bill_number) VALUES (1, 999.9, 15, 1, 0, 999.9, '2024-08-01', 'P001', 1, 1)\")\n",
    "curr.execute(\"INSERT INTO Order_Detail (Order_Detail_ID, Unit_Price, Size, Quantity, Discount, Total, Date, Product_ID, Order_ID, Bill_number) VALUES (2, 199.9, 0, 2, 10, 359.8, '2024-08-02', 'P002', 2, 2)\")\n",
    "curr.execute(\"INSERT INTO Order_Detail (Order_Detail_ID, Unit_Price, Size, Quantity, Discount, Total, Date, Product_ID, Order_ID, Bill_number) VALUES (3, 79.9, 0, 3, 5, 227.7, '2024-08-03', 'P003', 3, 3)\")\n"
   ]
  },
  {
   "cell_type": "code",
   "execution_count": null,
   "metadata": {},
   "outputs": [],
   "source": [
    "con.commit()"
   ]
  },
  {
   "cell_type": "code",
   "execution_count": null,
   "metadata": {},
   "outputs": [
    {
     "name": "stdout",
     "output_type": "stream",
     "text": [
      "(1, 999.9, 15, 1, 0.0, 999.9, '2024-08-01', 'P001', 1, 1)\n",
      "(2, 199.9, 0, 2, 10.0, 359.8, '2024-08-02', 'P002', 2, 2)\n",
      "(3, 79.9, 0, 3, 5.0, 227.7, '2024-08-03', 'P003', 3, 3)\n"
     ]
    }
   ],
   "source": [
    "curr.execute(\"SELECT * FROM Order_Detail\")\n",
    "rows = curr.fetchall()\n",
    "for row in rows:\n",
    "    print(row)"
   ]
  },
  {
   "cell_type": "code",
   "execution_count": null,
   "metadata": {},
   "outputs": [
    {
     "name": "stdout",
     "output_type": "stream",
     "text": [
      "(3, 79.9, 0, 3, 5.0, 227.7, '2024-08-03', 'P003', 3, 3)\n"
     ]
    }
   ],
   "source": [
    "curr.execute(\"SELECT * FROM Order_Detail WHERE Date > '2024-08-02'\")\n",
    "rows = curr.fetchall()\n",
    "for row in rows:\n",
    "    print(row)"
   ]
  },
  {
   "cell_type": "code",
   "execution_count": null,
   "metadata": {},
   "outputs": [],
   "source": [
    "# from smart_inventory_bot.components.sqlite_utils import sqlite_exc"
   ]
  },
  {
   "cell_type": "code",
   "execution_count": null,
   "metadata": {},
   "outputs": [],
   "source": [
    "# r = sqlite_exc(\"SELECT * FROM Order_Detail WHERE Date > '2024-08-02'\")"
   ]
  },
  {
   "cell_type": "code",
   "execution_count": null,
   "metadata": {},
   "outputs": [
    {
     "data": {
      "text/plain": [
       "[(3, 79.9, 0, 3, 5.0, 227.7, '2024-08-03', 'P003', 3, 3)]"
      ]
     },
     "execution_count": 3,
     "metadata": {},
     "output_type": "execute_result"
    }
   ],
   "source": [
    "# r"
   ]
  },
  {
   "cell_type": "code",
   "execution_count": null,
   "metadata": {},
   "outputs": [
    {
     "name": "stdout",
     "output_type": "stream",
     "text": [
      "[(1, '2024-08-01', 'Order details A', 1), (2, '2024-08-02', 'Order details B', 2), (3, '2024-08-03', 'Order details C', 3)]\n",
      "(1, '2024-08-01', 'Order details A', 1)\n",
      "(2, '2024-08-02', 'Order details B', 2)\n",
      "(3, '2024-08-03', 'Order details C', 3)\n"
     ]
    }
   ],
   "source": [
    "curr.execute(\"SELECT * FROM `Order` WHERE Date_of_Order BETWEEN DATE('now', '-1 month') AND DATE('now')\")\n",
    "rows = curr.fetchall()\n",
    "print(rows)\n",
    "for row in rows:\n",
    "    print(row)"
   ]
  },
  {
   "cell_type": "code",
   "execution_count": null,
   "metadata": {},
   "outputs": [],
   "source": [
    "con.close()"
   ]
  },
  {
   "cell_type": "code",
   "execution_count": null,
   "metadata": {},
   "outputs": [],
   "source": []
  }
 ],
 "metadata": {
  "kernelspec": {
   "display_name": ".venv",
   "language": "python",
   "name": "python3"
  },
  "language_info": {
   "codemirror_mode": {
    "name": "ipython",
    "version": 3
   },
   "file_extension": ".py",
   "mimetype": "text/x-python",
   "name": "python",
   "nbconvert_exporter": "python",
   "pygments_lexer": "ipython3",
   "version": "3.10.0"
  },
  "orig_nbformat": 4,
  "vscode": {
   "interpreter": {
    "hash": "f9284c9e554bacae47b3b3d3157381052e3f810cfbfe43934d09c34dac5d027f"
   }
  }
 },
 "nbformat": 4,
 "nbformat_minor": 2
}
